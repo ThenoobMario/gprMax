{
 "cells": [
  {
   "cell_type": "markdown",
   "source": [
    "# GPU Subgridding Example\n",
    "This notebook will explain how to use the GPU subgridding API to do FDTD Calculations. \n",
    "\n",
    "We'll start off with importing the Libraries."
   ],
   "metadata": {}
  },
  {
   "cell_type": "code",
   "execution_count": null,
   "source": [
    "from pathlib import Path\n",
    "import gprMax"
   ],
   "outputs": [],
   "metadata": {}
  },
  {
   "cell_type": "markdown",
   "source": [
    "We will get the file path step and "
   ],
   "metadata": {}
  },
  {
   "cell_type": "code",
   "execution_count": null,
   "source": [
    "basefile = Path().resolve().parents[0]\n",
    "fn = basefile/'sub-gridding'/'subgrid_basic.py'"
   ],
   "outputs": [],
   "metadata": {}
  },
  {
   "cell_type": "markdown",
   "source": [
    "## Defining the parameters\n",
    "This section will define the required parameters that make up the model."
   ],
   "metadata": {}
  },
  {
   "cell_type": "code",
   "execution_count": null,
   "source": [
    "# Discretisation is 1 mm in all 3 directions.\n",
    "dl = 1e-3\n",
    "# Sub-grid Ratio\n",
    "ratio = 3\n",
    "dl_s = dl / ratio\n",
    "\n",
    "# Defining the pml parameters\n",
    "pml_cells = 10\n",
    "pml_gap = 15\n",
    "\n",
    "# The distance between Inner Surface and Outer Surface of the subgridding\n",
    "is_os_gap = 4\n",
    "sub_gridded_region = 3\n",
    "\n",
    "# Defining the domain size\n",
    "extent = sub_gridded_region + 2 * (pml_cells + pml_gap + is_os_gap)\n",
    "\n",
    "# Defining the domain extent\n",
    "x = dl * extent\n",
    "y = x\n",
    "z = x\n",
    "\n",
    "# Time window\n",
    "tw = 2e-9"
   ],
   "outputs": [],
   "metadata": {}
  },
  {
   "cell_type": "markdown",
   "source": [
    "## Creating the scene\n",
    " \n",
    "Here we will be creating the scene using the gprMax API."
   ],
   "metadata": {}
  },
  {
   "cell_type": "code",
   "execution_count": null,
   "source": [
    "scene = gprMax.Scene()\n",
    "\n",
    "title_gpr = gprMax.Title(name=fn.name)\n",
    "dxdydz = gprMax.Discretisation(p1=(dl, dl, dl))\n",
    "domain = gprMax.Domain(p1=(x, y, z))\n",
    "time_window = gprMax.TimeWindow(time=tw)\n",
    "\n",
    "scene.add(domain)\n",
    "scene.add(title_gpr)\n",
    "scene.add(dxdydz)\n",
    "scene.add(time_window)\n",
    "\n",
    "sg_x0 = (pml_cells + pml_gap + is_os_gap) * dl\n",
    "sg_y0 = sg_x0\n",
    "sg_z0 = sg_x0\n",
    "\n",
    "sg_x1 = sg_x0 + sub_gridded_region * dl\n",
    "sg_y1 = sg_x1\n",
    "sg_z1 = sg_x1\n",
    "\n",
    "sg_p0 = [sg_x0, sg_y0, sg_z0]\n",
    "sg_p1 = [sg_x1, sg_y1, sg_z1]"
   ],
   "outputs": [],
   "metadata": {}
  },
  {
   "cell_type": "markdown",
   "source": [
    "Now we create the subgrid and initialise it for GPU by passing `gpu=True`."
   ],
   "metadata": {}
  },
  {
   "cell_type": "code",
   "execution_count": null,
   "source": [
    "sg = gprMax.SubGridHSG(p1=sg_p0, p2=sg_p1, ratio=ratio, id='mysubgrid', gpu=True)\n",
    "scene.add(sg)"
   ],
   "outputs": [],
   "metadata": {}
  },
  {
   "cell_type": "markdown",
   "source": [
    "Adding a waveform, source and receiver. The source will be inside the subgrid while the receiver outside the subgrid."
   ],
   "metadata": {}
  },
  {
   "cell_type": "code",
   "execution_count": null,
   "source": [
    "wave = gprMax.Waveform(wave_type = 'gaussiandotnorm', amp = 1, freq = 1e9, id = 'my_waveform')\n",
    "sg.add(wave)\n",
    "\n",
    "source = gprMax.HertzianDipole(polarisation = 'z', p1=(30*dl, 30*dl, 30*dl), waveform_id = 'my_waveform')\n",
    "sg.add(source)\n",
    "\n",
    "rec = gprMax.Rx(p1 = (25*dl, 30*dl, 30*dl))\n",
    "scene.add(rec)"
   ],
   "outputs": [],
   "metadata": {}
  },
  {
   "cell_type": "markdown",
   "source": [
    "Next line of code creates teh geometry view of the sub grid only. The command currently exports all the entire subgrid regardless of `p1` and `p2`."
   ],
   "metadata": {}
  },
  {
   "cell_type": "code",
   "execution_count": null,
   "source": [
    "gv_sg_normal = gprMax.GeometryView(p1=sg_p0,\n",
    "                         p2=sg_p1,\n",
    "                         dl=(1e-3, 1e-3, 1e-3),\n",
    "                         filename=fn.with_suffix('').parts[-1] + '_subgrid_normal',\n",
    "                         output_type='n')\n",
    "\n",
    "# add the subgrid geometry view to the sub grid object \n",
    "sg.add(gv_sg_normal)"
   ],
   "outputs": [],
   "metadata": {}
  },
  {
   "cell_type": "markdown",
   "source": [
    "## Running the simulation\n",
    "We use the `gprMax.run()` command to run the simulation with the tag `gpu='gpu'`."
   ],
   "metadata": {}
  },
  {
   "cell_type": "code",
   "execution_count": null,
   "source": [
    "gprMax.run(scenes=[scene], n=3, geometry_only=False, outputfile=fn, subgrid=True, gpu='gpu', autotranslate=True)"
   ],
   "outputs": [],
   "metadata": {}
  }
 ],
 "metadata": {
  "orig_nbformat": 4,
  "language_info": {
   "name": "python",
   "version": "3.9.5",
   "mimetype": "text/x-python",
   "codemirror_mode": {
    "name": "ipython",
    "version": 3
   },
   "pygments_lexer": "ipython3",
   "nbconvert_exporter": "python",
   "file_extension": ".py"
  },
  "kernelspec": {
   "name": "python3",
   "display_name": "Python 3.9.5 64-bit ('gprMax': conda)"
  },
  "interpreter": {
   "hash": "fe5424065c2aacd1416e0395f076b6994a8428919f72387019ea92bc39968add"
  }
 },
 "nbformat": 4,
 "nbformat_minor": 2
}